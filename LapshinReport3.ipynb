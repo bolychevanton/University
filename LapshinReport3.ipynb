{
 "cells": [
  {
   "cell_type": "code",
   "execution_count": 2,
   "metadata": {
    "collapsed": true
   },
   "outputs": [],
   "source": [
    "import numpy as np\n",
    "import matplotlib.pyplot as plt\n",
    "import math\n",
    "\n",
    "\n",
    "def right_triangle(grid_zero_level, T, M, N, lam):\n",
    "    grid = np.zeros((M + 1, N + 1))\n",
    "    grid[0, :] = grid_zero_level\n",
    "\n",
    "    tau = T / M\n",
    "    h = 1 / N\n",
    "    coef = lam * tau / h\n",
    "\n",
    "    if lam < 0 or coef > 1:\n",
    "        print(\"Схема неустойчива\")\n",
    "\n",
    "    for m in range(1, M + 1):\n",
    "        grid[m, :N] = (1 - coef) * grid[m - 1, :N] \\\n",
    "                        + coef * grid[m - 1, 1:N + 1]\n",
    "        grid[m, N] = grid[m, 0]\n",
    "    return grid\n",
    "\n",
    "\n",
    "def cycle_marching(alpha, beta, gamma, F):\n",
    "    N = F.shape[0] - 1\n",
    "    C = np.zeros(N - 1)\n",
    "    phi_q = np.zeros(N - 1)\n",
    "    phi_p = np.zeros(N - 1)\n",
    "    C[0] = -gamma / beta\n",
    "    phi_p[0] = F[1] / beta\n",
    "    phi_q[0] = -alpha / beta\n",
    "\n",
    "    for i in range(1, N - 1):\n",
    "        denominator = alpha * C[i - 1] + beta\n",
    "        C[i] = -gamma / denominator\n",
    "        phi_p[i] = (F[i + 1] - alpha * phi_p[i - 1]) / denominator\n",
    "        phi_q[i] = -(alpha * phi_q[i - 1]) / denominator\n",
    "\n",
    "    p = np.zeros(N - 1)\n",
    "    q = np.zeros(N - 1)\n",
    "    p[N - 2] = phi_p[N - 2]\n",
    "    q[N - 2] = C[N - 2] + phi_q[N - 2]\n",
    "    for i in reversed(range(N - 2)):\n",
    "        p[i] = C[i] * p[i + 1] + phi_p[i]\n",
    "        q[i] = C[i] * q[i + 1] + phi_q[i]\n",
    "\n",
    "    Z_N = ((F[N] - gamma * p[0] - alpha * p[N-2]) /\n",
    "           (beta + gamma * q[0] + alpha * q[N - 2]))\n",
    "\n",
    "    appended = np.append(Z_N, p + q * Z_N)\n",
    "    return np.append(appended, Z_N)\n",
    "\n",
    "\n",
    "def upper_triangle(grid_zero_level, T, M, N, lam):\n",
    "    grid = np.zeros((M + 1, N + 1))\n",
    "    grid[0, :] = grid_zero_level\n",
    "    tau = T / M\n",
    "    h = 1 / N\n",
    "    coef = lam * tau / h\n",
    "    if tau / h > 1 / abs(lam):\n",
    "        print(\"Циклическая прогонка неустойчива\")\n",
    "\n",
    "    alpha = coef / 2\n",
    "    beta = 1\n",
    "    gamma = -coef / 2\n",
    "    for m in range(1, M + 1):\n",
    "        grid[m, :] = cycle_marching(alpha, beta, gamma, grid[m - 1, :])\n",
    "\n",
    "    return grid"
   ]
  },
  {
   "cell_type": "code",
   "execution_count": 3,
   "metadata": {},
   "outputs": [
    {
     "data": {
      "text/plain": [
       "0.004161603540415962"
      ]
     },
     "execution_count": 3,
     "metadata": {},
     "output_type": "execute_result"
    }
   ],
   "source": [
    "N = 100\n",
    "M = 40000\n",
    "T = 1\n",
    "tau = T / M\n",
    "h = 1 / N\n",
    "grid = np.zeros((M + 1, N + 1))\n",
    "for n in range(N + 1):\n",
    "    for m in range(M + 1):\n",
    "        grid[m, n] = n * h + m * tau\n",
    "\n",
    "precise_solution = np.sin(2 * 3.141592653589793238462643 * grid)\n",
    "triangle_solution = upper_triangle(precise_solution[0], T, M, N, 1)\n",
    "np.amax(np.abs(precise_solution - triangle_solution))"
   ]
  },
  {
   "cell_type": "code",
   "execution_count": null,
   "metadata": {
    "collapsed": true
   },
   "outputs": [],
   "source": []
  }
 ],
 "metadata": {
  "kernelspec": {
   "display_name": "Python 3",
   "language": "python",
   "name": "python3"
  },
  "language_info": {
   "codemirror_mode": {
    "name": "ipython",
    "version": 3
   },
   "file_extension": ".py",
   "mimetype": "text/x-python",
   "name": "python",
   "nbconvert_exporter": "python",
   "pygments_lexer": "ipython3",
   "version": "3.6.1"
  }
 },
 "nbformat": 4,
 "nbformat_minor": 2
}
